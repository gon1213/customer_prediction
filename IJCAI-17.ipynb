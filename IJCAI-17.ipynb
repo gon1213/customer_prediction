{
 "cells": [
  {
   "cell_type": "code",
   "execution_count": 23,
   "metadata": {
    "collapsed": true
   },
   "outputs": [],
   "source": [
    "import pandas as pd\n"
   ]
  },
  {
   "cell_type": "code",
   "execution_count": 31,
   "metadata": {
    "collapsed": false
   },
   "outputs": [],
   "source": [
    "dir_ship_info = \"./dataset/shop_info.txt\"\n",
    "dir_user_pay = \"./dataset/user_pay.txt\"\n",
    "dir_user_view = \"./dataset/user_view.txt\"\n",
    "shop_info = pd.read_csv(dir_ship_info, sep=',', names=[\"shop_id\",\"city_name\",\"location_id\",\"per_pay\",\"score\",\"comment_cnt\",\"shop_level\",\"cate_1_name\",\"cate_2_name\",\"cate_3_name\"])\n",
    "user_pay = pd.read_csv(dir_user_pay, sep=\",\", names=[\"user_id\",\"shop_id\",\"time_stamp\"])\n",
    "user_view = pd.read_csv(dir_user_view, sep=\",\", names=[\"user_id\",\"shop_id\",\"time_stamp\"])\n",
    "\n",
    "\n",
    "dir_ouput= \"./result.txt\"\n",
    "output=pd.DataFrame()\n",
    "output.to_csv(dir_ouput, sep=\",\", names= [\"shop_id\",\"day1\",\"...\"])"
   ]
  },
  {
   "cell_type": "code",
   "execution_count": 25,
   "metadata": {
    "collapsed": false
   },
   "outputs": [
    {
     "data": {
      "text/html": [
       "<div>\n",
       "<table border=\"1\" class=\"dataframe\">\n",
       "  <thead>\n",
       "    <tr style=\"text-align: right;\">\n",
       "      <th></th>\n",
       "      <th>shop_id</th>\n",
       "      <th>city_name</th>\n",
       "      <th>location_id</th>\n",
       "      <th>per_pay</th>\n",
       "      <th>score</th>\n",
       "      <th>comment_cnt</th>\n",
       "      <th>shop_level</th>\n",
       "      <th>cate_1_name</th>\n",
       "      <th>cate_2_name</th>\n",
       "      <th>cate_3_name</th>\n",
       "    </tr>\n",
       "  </thead>\n",
       "  <tbody>\n",
       "    <tr>\n",
       "      <th>0</th>\n",
       "      <td>1</td>\n",
       "      <td>湖州</td>\n",
       "      <td>885</td>\n",
       "      <td>8</td>\n",
       "      <td>4.0</td>\n",
       "      <td>12.0</td>\n",
       "      <td>2</td>\n",
       "      <td>美食</td>\n",
       "      <td>休闲茶饮</td>\n",
       "      <td>饮品/甜点</td>\n",
       "    </tr>\n",
       "    <tr>\n",
       "      <th>1</th>\n",
       "      <td>2</td>\n",
       "      <td>哈尔滨</td>\n",
       "      <td>64</td>\n",
       "      <td>19</td>\n",
       "      <td>NaN</td>\n",
       "      <td>NaN</td>\n",
       "      <td>1</td>\n",
       "      <td>超市便利店</td>\n",
       "      <td>超市</td>\n",
       "      <td>NaN</td>\n",
       "    </tr>\n",
       "    <tr>\n",
       "      <th>2</th>\n",
       "      <td>3</td>\n",
       "      <td>南昌</td>\n",
       "      <td>774</td>\n",
       "      <td>5</td>\n",
       "      <td>3.0</td>\n",
       "      <td>2.0</td>\n",
       "      <td>0</td>\n",
       "      <td>美食</td>\n",
       "      <td>休闲茶饮</td>\n",
       "      <td>奶茶</td>\n",
       "    </tr>\n",
       "    <tr>\n",
       "      <th>3</th>\n",
       "      <td>4</td>\n",
       "      <td>天津</td>\n",
       "      <td>380</td>\n",
       "      <td>18</td>\n",
       "      <td>NaN</td>\n",
       "      <td>NaN</td>\n",
       "      <td>1</td>\n",
       "      <td>超市便利店</td>\n",
       "      <td>超市</td>\n",
       "      <td>NaN</td>\n",
       "    </tr>\n",
       "    <tr>\n",
       "      <th>4</th>\n",
       "      <td>5</td>\n",
       "      <td>杭州</td>\n",
       "      <td>263</td>\n",
       "      <td>2</td>\n",
       "      <td>2.0</td>\n",
       "      <td>2.0</td>\n",
       "      <td>0</td>\n",
       "      <td>美食</td>\n",
       "      <td>休闲食品</td>\n",
       "      <td>生鲜水果</td>\n",
       "    </tr>\n",
       "  </tbody>\n",
       "</table>\n",
       "</div>"
      ],
      "text/plain": [
       "   shop_id city_name  location_id  per_pay  score  comment_cnt  shop_level  \\\n",
       "0        1        湖州          885        8    4.0         12.0           2   \n",
       "1        2       哈尔滨           64       19    NaN          NaN           1   \n",
       "2        3        南昌          774        5    3.0          2.0           0   \n",
       "3        4        天津          380       18    NaN          NaN           1   \n",
       "4        5        杭州          263        2    2.0          2.0           0   \n",
       "\n",
       "  cate_1_name cate_2_name cate_3_name  \n",
       "0          美食        休闲茶饮       饮品/甜点  \n",
       "1       超市便利店          超市         NaN  \n",
       "2          美食        休闲茶饮          奶茶  \n",
       "3       超市便利店          超市         NaN  \n",
       "4          美食        休闲食品        生鲜水果  "
      ]
     },
     "execution_count": 25,
     "metadata": {},
     "output_type": "execute_result"
    }
   ],
   "source": [
    "shop_info.head()"
   ]
  },
  {
   "cell_type": "code",
   "execution_count": 29,
   "metadata": {
    "collapsed": false
   },
   "outputs": [
    {
     "data": {
      "text/html": [
       "<div>\n",
       "<table border=\"1\" class=\"dataframe\">\n",
       "  <thead>\n",
       "    <tr style=\"text-align: right;\">\n",
       "      <th></th>\n",
       "      <th>user_id</th>\n",
       "      <th>shop_id</th>\n",
       "      <th>time_stamp</th>\n",
       "    </tr>\n",
       "  </thead>\n",
       "  <tbody>\n",
       "    <tr>\n",
       "      <th>0</th>\n",
       "      <td>22127870</td>\n",
       "      <td>1862</td>\n",
       "      <td>2015-12-25 17:00:00</td>\n",
       "    </tr>\n",
       "    <tr>\n",
       "      <th>1</th>\n",
       "      <td>3434231</td>\n",
       "      <td>1862</td>\n",
       "      <td>2016-10-05 11:00:00</td>\n",
       "    </tr>\n",
       "    <tr>\n",
       "      <th>2</th>\n",
       "      <td>16955285</td>\n",
       "      <td>1862</td>\n",
       "      <td>2016-02-10 15:00:00</td>\n",
       "    </tr>\n",
       "    <tr>\n",
       "      <th>3</th>\n",
       "      <td>13799128</td>\n",
       "      <td>1862</td>\n",
       "      <td>2016-01-13 14:00:00</td>\n",
       "    </tr>\n",
       "    <tr>\n",
       "      <th>4</th>\n",
       "      <td>13799128</td>\n",
       "      <td>1862</td>\n",
       "      <td>2016-07-05 12:00:00</td>\n",
       "    </tr>\n",
       "  </tbody>\n",
       "</table>\n",
       "</div>"
      ],
      "text/plain": [
       "    user_id  shop_id           time_stamp\n",
       "0  22127870     1862  2015-12-25 17:00:00\n",
       "1   3434231     1862  2016-10-05 11:00:00\n",
       "2  16955285     1862  2016-02-10 15:00:00\n",
       "3  13799128     1862  2016-01-13 14:00:00\n",
       "4  13799128     1862  2016-07-05 12:00:00"
      ]
     },
     "execution_count": 29,
     "metadata": {},
     "output_type": "execute_result"
    }
   ],
   "source": [
    "user_pay.head()"
   ]
  },
  {
   "cell_type": "code",
   "execution_count": 27,
   "metadata": {
    "collapsed": false
   },
   "outputs": [
    {
     "data": {
      "text/html": [
       "<div>\n",
       "<table border=\"1\" class=\"dataframe\">\n",
       "  <thead>\n",
       "    <tr style=\"text-align: right;\">\n",
       "      <th></th>\n",
       "      <th>user_id</th>\n",
       "      <th>shop_id</th>\n",
       "      <th>time_stamp</th>\n",
       "    </tr>\n",
       "  </thead>\n",
       "  <tbody>\n",
       "    <tr>\n",
       "      <th>0</th>\n",
       "      <td>13201967</td>\n",
       "      <td>1197</td>\n",
       "      <td>2016-10-21 18:00:00</td>\n",
       "    </tr>\n",
       "    <tr>\n",
       "      <th>1</th>\n",
       "      <td>19461365</td>\n",
       "      <td>1197</td>\n",
       "      <td>2016-06-28 23:00:00</td>\n",
       "    </tr>\n",
       "    <tr>\n",
       "      <th>2</th>\n",
       "      <td>15022321</td>\n",
       "      <td>1197</td>\n",
       "      <td>2016-07-16 19:00:00</td>\n",
       "    </tr>\n",
       "    <tr>\n",
       "      <th>3</th>\n",
       "      <td>5440872</td>\n",
       "      <td>1197</td>\n",
       "      <td>2016-07-15 07:00:00</td>\n",
       "    </tr>\n",
       "    <tr>\n",
       "      <th>4</th>\n",
       "      <td>12594529</td>\n",
       "      <td>1197</td>\n",
       "      <td>2016-08-07 16:00:00</td>\n",
       "    </tr>\n",
       "  </tbody>\n",
       "</table>\n",
       "</div>"
      ],
      "text/plain": [
       "    user_id  shop_id           time_stamp\n",
       "0  13201967     1197  2016-10-21 18:00:00\n",
       "1  19461365     1197  2016-06-28 23:00:00\n",
       "2  15022321     1197  2016-07-16 19:00:00\n",
       "3   5440872     1197  2016-07-15 07:00:00\n",
       "4  12594529     1197  2016-08-07 16:00:00"
      ]
     },
     "execution_count": 27,
     "metadata": {},
     "output_type": "execute_result"
    }
   ],
   "source": [
    "user_view.head()"
   ]
  },
  {
   "cell_type": "code",
   "execution_count": null,
   "metadata": {
    "collapsed": true
   },
   "outputs": [],
   "source": []
  }
 ],
 "metadata": {
  "anaconda-cloud": {},
  "kernelspec": {
   "display_name": "Python 3",
   "language": "python",
   "name": "python3"
  },
  "language_info": {
   "codemirror_mode": {
    "name": "ipython",
    "version": 3
   },
   "file_extension": ".py",
   "mimetype": "text/x-python",
   "name": "python",
   "nbconvert_exporter": "python",
   "pygments_lexer": "ipython3",
   "version": "3.5.2"
  }
 },
 "nbformat": 4,
 "nbformat_minor": 1
}
